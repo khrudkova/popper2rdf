{
 "cells": [
  {
   "metadata": {},
   "cell_type": "markdown",
   "source": [
    "The converter is mainly based on the structure of datasets from the [Popper examples](https://github.com/logic-and-learning-lab/Popper/tree/main/examples). It expects the input to be structured such as `dataset_name/bk.pl`. Both `exs.pl` and `bk.pl` must be in the same folder, otherwise the conversion will not be successful. The `bias.pl` is not used for conversion.\n",
    "[More examples](https://github.com/celinehocquette/numsynth-aaai23/tree/main/numsynth/examples)."
   ],
   "id": "db83b5c533b24b69"
  },
  {
   "metadata": {
    "collapsed": true,
    "ExecuteTime": {
     "end_time": "2024-09-30T10:06:17.089002Z",
     "start_time": "2024-09-30T10:06:16.459361Z"
    }
   },
   "cell_type": "code",
   "source": "from popper2rdf import popper2rdf",
   "id": "initial_id",
   "outputs": [
    {
     "name": "stderr",
     "output_type": "stream",
     "text": [
      "C:\\Users\\katerina\\Documents\\Moje\\Věci do školy\\Vysoká - VŠE AI\\Diplomová práce\\popper2rdf_lib\\popper2rdf\\popper2rdf.py:95: SyntaxWarning: invalid escape sequence '\\('\n",
      "  exs_pattern = re.compile('(pos|neg)\\((\\w+)\\((.+)\\)\\)\\.')\n"
     ]
    }
   ],
   "execution_count": 2
  },
  {
   "metadata": {},
   "cell_type": "markdown",
   "source": [
    "**popper2rdf** has some input parameters, which can are configurable to customize the output. Most of them have default values.\n",
    "\n",
    "- dataset_name\n",
    "    - name of the folder, where BK and examples are located, the same name is used for the output file\n",
    "- input_path: current directory\n",
    "    - path, to where the input files are located ! minus the folder = dataset name\n",
    "- output_path: current directory\n",
    "    - destination for the output file\n",
    "- universal_predicate_1: has_property\n",
    "    - universal predicate for atoms with arity = 1\n",
    "- subject_prefix: http://vseILPconvertor/\n",
    "    - prefix for artificial subject for atoms where arity > 2 (reification)\n",
    "- predicate_suffix: _p%d\n",
    "    - prefix for predicates for atoms where arity > 2\n",
    "- remove_spaces: True\n",
    "    - optional removal of spaces in text\n",
    "- negation_prefix: not_\n",
    "    - prefix for predicates of negative examples for atoms with arity = 2\n",
    "- subject_true: True\n",
    "    - value that should be assigned to positive examples with arity = 1\n",
    "    - by default boolean literals \n",
    "- subject_false: False\n",
    "    - value that should be assigned to negative examples with arity = 1\n",
    "    - by default boolean literals"
   ],
   "id": "61d5131e685f0de9"
  },
  {
   "metadata": {},
   "cell_type": "markdown",
   "source": [
    "The following line of code will generate the output from the input files to the current directory, if the folder with `bk.pl` and `exs.pl` is present in the current directory.\n",
    "First, define the path to the input files, if they are NOT in the current directory. Do NOT include the dataset name/folder name (in this case *numeric-zendo2*) in the path."
   ],
   "id": "fa4ad49e2df51367"
  },
  {
   "metadata": {
    "ExecuteTime": {
     "end_time": "2024-09-30T10:07:56.669753Z",
     "start_time": "2024-09-30T10:07:56.609342Z"
    }
   },
   "cell_type": "code",
   "source": [
    "# path to the folder with dataset name\n",
    "input_files_path = ''\n",
    "popper2rdf('numeric-zendo2', input_files_path)"
   ],
   "id": "5042804be7658290",
   "outputs": [],
   "execution_count": 4
  }
 ],
 "metadata": {
  "kernelspec": {
   "display_name": "Python 3",
   "language": "python",
   "name": "python3"
  },
  "language_info": {
   "codemirror_mode": {
    "name": "ipython",
    "version": 2
   },
   "file_extension": ".py",
   "mimetype": "text/x-python",
   "name": "python",
   "nbconvert_exporter": "python",
   "pygments_lexer": "ipython2",
   "version": "2.7.6"
  }
 },
 "nbformat": 4,
 "nbformat_minor": 5
}
